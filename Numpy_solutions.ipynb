{
  "nbformat": 4,
  "nbformat_minor": 0,
  "metadata": {
    "colab": {
      "provenance": [],
      "authorship_tag": "ABX9TyOLG55u+WSb87ppu2D7zYfc",
      "include_colab_link": true
    },
    "kernelspec": {
      "name": "python3",
      "display_name": "Python 3"
    },
    "language_info": {
      "name": "python"
    }
  },
  "cells": [
    {
      "cell_type": "markdown",
      "metadata": {
        "id": "view-in-github",
        "colab_type": "text"
      },
      "source": [
        "<a href=\"https://colab.research.google.com/github/Valentianets/Analitic/blob/main/Numpy_solutions.ipynb\" target=\"_parent\"><img src=\"https://colab.research.google.com/assets/colab-badge.svg\" alt=\"Open In Colab\"/></a>"
      ]
    },
    {
      "cell_type": "code",
      "execution_count": null,
      "metadata": {
        "colab": {
          "base_uri": "https://localhost:8080/"
        },
        "id": "7yvSSeVI3NJG",
        "outputId": "427a1d81-716f-4267-8d9e-ce397af36859"
      },
      "outputs": [
        {
          "output_type": "stream",
          "name": "stdout",
          "text": [
            "[0. 0. 0. 0. 0. 0. 0. 0. 0. 0.]\n"
          ]
        }
      ],
      "source": [
        "# Создайте массив из 10 нулей\n",
        "import numpy as np\n",
        "array=np.zeros(10)\n",
        "print(array)"
      ]
    },
    {
      "cell_type": "code",
      "source": [
        "# Создать массив из 10 единиц\n",
        "import numpy as np\n",
        "array=np.ones(10)\n",
        "print(array)"
      ],
      "metadata": {
        "colab": {
          "base_uri": "https://localhost:8080/"
        },
        "id": "sCtc1V9e44mH",
        "outputId": "6fb05015-c181-45f8-e1d6-86f741964106"
      },
      "execution_count": null,
      "outputs": [
        {
          "output_type": "stream",
          "name": "stdout",
          "text": [
            "[1. 1. 1. 1. 1. 1. 1. 1. 1. 1.]\n"
          ]
        }
      ]
    },
    {
      "cell_type": "code",
      "source": [
        "# Создать массив из 10 пятерок\n",
        "import numpy as np\n",
        "array=np.ones(10)*5\n",
        "print(array)"
      ],
      "metadata": {
        "colab": {
          "base_uri": "https://localhost:8080/"
        },
        "id": "7WFjshns5DzD",
        "outputId": "74a0110f-3ccc-4f84-c781-03e635d042ac"
      },
      "execution_count": null,
      "outputs": [
        {
          "output_type": "stream",
          "name": "stdout",
          "text": [
            "[5. 5. 5. 5. 5. 5. 5. 5. 5. 5.]\n"
          ]
        }
      ]
    },
    {
      "cell_type": "code",
      "source": [
        "# Создать массив из целых чисел от 10 до 50\n",
        "import numpy as np\n",
        "array=np.arange(10,50)\n",
        "print(array)"
      ],
      "metadata": {
        "colab": {
          "base_uri": "https://localhost:8080/"
        },
        "id": "RhYCduX65Y5p",
        "outputId": "d45ad79a-0ab4-4250-c981-17ad45ab89fe"
      },
      "execution_count": null,
      "outputs": [
        {
          "output_type": "stream",
          "name": "stdout",
          "text": [
            "[10 11 12 13 14 15 16 17 18 19 20 21 22 23 24 25 26 27 28 29 30 31 32 33\n",
            " 34 35 36 37 38 39 40 41 42 43 44 45 46 47 48 49]\n"
          ]
        }
      ]
    },
    {
      "cell_type": "code",
      "source": [
        "# Создать массив из четных чисел от 10 до 50\n",
        "import numpy as np\n",
        "array=np.arange(10,50,2)\n",
        "print(array) "
      ],
      "metadata": {
        "colab": {
          "base_uri": "https://localhost:8080/"
        },
        "id": "zWY2e23B5uYl",
        "outputId": "06ed7a1a-f389-4b5a-8644-916dd62d4f0b"
      },
      "execution_count": null,
      "outputs": [
        {
          "output_type": "stream",
          "name": "stdout",
          "text": [
            "[10 12 14 16 18 20 22 24 26 28 30 32 34 36 38 40 42 44 46 48]\n"
          ]
        }
      ]
    },
    {
      "cell_type": "code",
      "source": [
        "# Создать матрицу 3х3 с числами от 0 до 8\n",
        "import numpy as np\n",
        "Z = np.arange(9).reshape (3,3)\n",
        "print(Z)"
      ],
      "metadata": {
        "colab": {
          "base_uri": "https://localhost:8080/"
        },
        "id": "SqS7ZCcq5-w7",
        "outputId": "08425d7e-ee66-41f7-c25c-e2a283d20ac2"
      },
      "execution_count": null,
      "outputs": [
        {
          "output_type": "stream",
          "name": "stdout",
          "text": [
            "[[0 1 2]\n",
            " [3 4 5]\n",
            " [6 7 8]]\n"
          ]
        }
      ]
    },
    {
      "cell_type": "code",
      "source": [
        "#Создать единичную матрицу 3x3\n",
        "import numpy as np\n",
        "Z = np.eye(3)\n",
        "print(Z)"
      ],
      "metadata": {
        "colab": {
          "base_uri": "https://localhost:8080/"
        },
        "id": "lwLwgG5p7cm3",
        "outputId": "f9265b3f-ed3e-429c-c846-aa6bd258b26d"
      },
      "execution_count": null,
      "outputs": [
        {
          "output_type": "stream",
          "name": "stdout",
          "text": [
            "[[1. 0. 0.]\n",
            " [0. 1. 0.]\n",
            " [0. 0. 1.]]\n"
          ]
        }
      ]
    },
    {
      "cell_type": "code",
      "source": [
        "#Используйте NumPy для генерации случайного числа от 0 до 1\n",
        "import numpy as np\n",
        "rand_num = np.random.normal(0,1,1)\n",
        "print(rand_num)"
      ],
      "metadata": {
        "colab": {
          "base_uri": "https://localhost:8080/"
        },
        "id": "mRu_1SLn7u_p",
        "outputId": "2d75433e-71d1-494c-d70a-97b71a26ae7f"
      },
      "execution_count": null,
      "outputs": [
        {
          "output_type": "stream",
          "name": "stdout",
          "text": [
            "[-1.20265368]\n"
          ]
        }
      ]
    },
    {
      "cell_type": "code",
      "source": [
        "#Используйте NumPy для генерации массива из 25 случайных чисел,взятых из стандартного нормального распределения\n",
        "import numpy as np\n",
        "rand_num = np.random.normal(0,1,25)\n",
        "print(rand_num)"
      ],
      "metadata": {
        "colab": {
          "base_uri": "https://localhost:8080/"
        },
        "id": "E59x_ku88HDZ",
        "outputId": "a29d779d-e44b-47d2-9c04-1e7174502e52"
      },
      "execution_count": null,
      "outputs": [
        {
          "output_type": "stream",
          "name": "stdout",
          "text": [
            "[ 1.19902808  1.27383194 -0.81887991 -1.11064746  0.68212141 -0.31378817\n",
            "  0.97904458 -2.28251258  0.33835746 -0.52672231  2.18683345 -0.71238515\n",
            "  0.84138397 -0.97744072 -0.78116683 -0.62636285 -0.6548343  -0.43867782\n",
            "  0.69559747 -0.80872448  1.27184559  0.85788763 -0.42865785 -0.52574023\n",
            " -0.02540327]\n"
          ]
        }
      ]
    },
    {
      "cell_type": "code",
      "source": [
        "#Создайте следующую матрицу используя функции библиотеки NumPy:\n",
        "import numpy as np\n",
        "z = np.arange(0.01, 1.01, 0.01).reshape(10, 10)\n",
        "print (z)\n"
      ],
      "metadata": {
        "colab": {
          "base_uri": "https://localhost:8080/"
        },
        "id": "aZCR1ZoB8ZIY",
        "outputId": "88177e95-2319-4689-bbc4-0fa2cdba9cb8"
      },
      "execution_count": null,
      "outputs": [
        {
          "output_type": "stream",
          "name": "stdout",
          "text": [
            "[[0.01 0.02 0.03 0.04 0.05 0.06 0.07 0.08 0.09 0.1 ]\n",
            " [0.11 0.12 0.13 0.14 0.15 0.16 0.17 0.18 0.19 0.2 ]\n",
            " [0.21 0.22 0.23 0.24 0.25 0.26 0.27 0.28 0.29 0.3 ]\n",
            " [0.31 0.32 0.33 0.34 0.35 0.36 0.37 0.38 0.39 0.4 ]\n",
            " [0.41 0.42 0.43 0.44 0.45 0.46 0.47 0.48 0.49 0.5 ]\n",
            " [0.51 0.52 0.53 0.54 0.55 0.56 0.57 0.58 0.59 0.6 ]\n",
            " [0.61 0.62 0.63 0.64 0.65 0.66 0.67 0.68 0.69 0.7 ]\n",
            " [0.71 0.72 0.73 0.74 0.75 0.76 0.77 0.78 0.79 0.8 ]\n",
            " [0.81 0.82 0.83 0.84 0.85 0.86 0.87 0.88 0.89 0.9 ]\n",
            " [0.91 0.92 0.93 0.94 0.95 0.96 0.97 0.98 0.99 1.  ]]\n"
          ]
        }
      ]
    },
    {
      "cell_type": "code",
      "source": [
        "# это наша стартовая матрица\n",
        "mat = np.arange(1,26).reshape(5,5)\n",
        "print(mat)"
      ],
      "metadata": {
        "colab": {
          "base_uri": "https://localhost:8080/"
        },
        "id": "-jJLult896Ji",
        "outputId": "5dd32f90-de1a-4766-fc5f-621880bf2743"
      },
      "execution_count": null,
      "outputs": [
        {
          "output_type": "stream",
          "name": "stdout",
          "text": [
            "[[ 1  2  3  4  5]\n",
            " [ 6  7  8  9 10]\n",
            " [11 12 13 14 15]\n",
            " [16 17 18 19 20]\n",
            " [21 22 23 24 25]]\n"
          ]
        }
      ]
    },
    {
      "cell_type": "code",
      "source": [
        "#Необходимо написать код который вернет следующую матрицу из стартовой\n",
        "import numpy as np\n",
        "mat = np.arange(1,26).reshape(5,5)\n",
        "print(mat[2:,1:])\n",
        "\n"
      ],
      "metadata": {
        "id": "vCBbK485HiwB",
        "colab": {
          "base_uri": "https://localhost:8080/"
        },
        "outputId": "966b16f3-383f-442f-90e3-f19d8586dfe3"
      },
      "execution_count": 6,
      "outputs": [
        {
          "output_type": "stream",
          "name": "stdout",
          "text": [
            "[[12 13 14 15]\n",
            " [17 18 19 20]\n",
            " [22 23 24 25]]\n"
          ]
        }
      ]
    },
    {
      "cell_type": "code",
      "source": [
        "#код обращения к элементу который вернет значение 20 из стартовой матрицы задачи l\n",
        "import numpy as np\n",
        "mat = np.arange(1,26).reshape(5,5)\n",
        "print(mat[3,4])"
      ],
      "metadata": {
        "id": "OoCSCazEObFk",
        "colab": {
          "base_uri": "https://localhost:8080/"
        },
        "outputId": "49a7bf07-6c64-4b82-de42-3bb4eb5d026c"
      },
      "execution_count": 7,
      "outputs": [
        {
          "output_type": "stream",
          "name": "stdout",
          "text": [
            "20\n"
          ]
        }
      ]
    },
    {
      "cell_type": "code",
      "source": [
        "# код к стартовой матрице задачи l, который воспроизводит вывод, показанный ниже\n",
        "import numpy as np\n",
        "mat = np.arange(1,26).reshape(5,5)\n",
        "print(mat[0:3,1:2])"
      ],
      "metadata": {
        "colab": {
          "base_uri": "https://localhost:8080/"
        },
        "id": "nHfdBxekHyAv",
        "outputId": "c897d18f-e99a-46db-d5d4-41cf71a9f89f"
      },
      "execution_count": 8,
      "outputs": [
        {
          "output_type": "stream",
          "name": "stdout",
          "text": [
            "[[ 2]\n",
            " [ 7]\n",
            " [12]]\n"
          ]
        }
      ]
    },
    {
      "cell_type": "code",
      "source": [
        "# код к стартовой матрице задачи l, который воспроизводит вывод, показанный ниже\n",
        "print(mat[4:])"
      ],
      "metadata": {
        "colab": {
          "base_uri": "https://localhost:8080/"
        },
        "id": "IxeHhCw-H33X",
        "outputId": "18e643a0-db5e-4a6c-b8dd-766d6ffaa3ba"
      },
      "execution_count": 9,
      "outputs": [
        {
          "output_type": "stream",
          "name": "stdout",
          "text": [
            "[[21 22 23 24 25]]\n"
          ]
        }
      ]
    },
    {
      "cell_type": "code",
      "source": [
        "# код к стартовой матрице задачи l, который воспроизводитвывод, показанный ниже\n",
        "print(mat[3:])"
      ],
      "metadata": {
        "colab": {
          "base_uri": "https://localhost:8080/"
        },
        "id": "FfYZBXi6H-R5",
        "outputId": "6e73b8de-9d98-42d7-af2e-b1d37f3ac1d6"
      },
      "execution_count": 10,
      "outputs": [
        {
          "output_type": "stream",
          "name": "stdout",
          "text": [
            "[[16 17 18 19 20]\n",
            " [21 22 23 24 25]]\n"
          ]
        }
      ]
    },
    {
      "cell_type": "code",
      "source": [
        "# Получить сумму всех значений в стартовой матрице mat\n",
        "print(np.sum(mat))"
      ],
      "metadata": {
        "colab": {
          "base_uri": "https://localhost:8080/"
        },
        "id": "JGm4jSxMIEIt",
        "outputId": "95fec832-6921-4583-997d-4723db88e339"
      },
      "execution_count": 11,
      "outputs": [
        {
          "output_type": "stream",
          "name": "stdout",
          "text": [
            "325\n"
          ]
        }
      ]
    },
    {
      "cell_type": "code",
      "source": [
        "# Получить стандартное отклонение в стартовой матрице mat\n",
        "print(np.std(mat))"
      ],
      "metadata": {
        "colab": {
          "base_uri": "https://localhost:8080/"
        },
        "id": "DuF-dse2IHVm",
        "outputId": "2693e0d5-a99f-4360-a7f7-53add1c7b10b"
      },
      "execution_count": 12,
      "outputs": [
        {
          "output_type": "stream",
          "name": "stdout",
          "text": [
            "7.211102550927978\n"
          ]
        }
      ]
    },
    {
      "cell_type": "code",
      "source": [
        "#Получить сумму значений в колонках в стартовой матрице mat\n",
        "print(np.sum(mat, axis = 0))"
      ],
      "metadata": {
        "colab": {
          "base_uri": "https://localhost:8080/"
        },
        "id": "zBG25c9sIKry",
        "outputId": "5415e54d-40e2-45ba-c0fb-e68c7c4a0be7"
      },
      "execution_count": 13,
      "outputs": [
        {
          "output_type": "stream",
          "name": "stdout",
          "text": [
            "[55 60 65 70 75]\n"
          ]
        }
      ]
    }
  ]
}